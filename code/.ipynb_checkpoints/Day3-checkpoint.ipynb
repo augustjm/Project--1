{
 "cells": [
  {
   "cell_type": "code",
   "execution_count": null,
   "id": "dd5d237b",
   "metadata": {},
   "outputs": [],
   "source": [
    "#Q1) Count the number of Non-NaN cells for each column\n",
    "Given a DataFrame (with NaN values in one or more columns), you need to print the number of Non-NaN cells for each column."
   ]
  },
  {
   "cell_type": "code",
   "execution_count": 6,
   "id": "ac983a2e",
   "metadata": {},
   "outputs": [
    {
     "name": "stdout",
     "output_type": "stream",
     "text": [
      "  Column  Count\n",
      "0  col_A      3\n",
      "1  col_B      2\n"
     ]
    }
   ],
   "source": [
    "import pandas as pd\n",
    "import numpy as np\n",
    "\n",
    "df = pd.DataFrame([[\"A\", np.NaN], [np.NaN, 2],\n",
    "                   [\"C\", np.NaN], [\"D\", 4]], \n",
    "                  columns=[\"col_A\", \"col_B\"])\n",
    "\n",
    "# Count non-NaN values in each column\n",
    "non_nan_counts = df.count()\n",
    "\n",
    "# Create the output DataFrame\n",
    "output_df = pd.DataFrame({'Column': non_nan_counts.index, 'Count': non_nan_counts.values})\n",
    "\n",
    "print(output_df)\n"
   ]
  },
  {
   "cell_type": "code",
   "execution_count": null,
   "id": "d07b2182",
   "metadata": {},
   "outputs": [],
   "source": [
    "Q2) Reverse DataFrame row-wise or column-wise\n",
    "Assume that you have a DataFrame. Your task is to flip the entire DataFrame row-wise or column-wise."
   ]
  },
  {
   "cell_type": "code",
   "execution_count": 8,
   "id": "21c7e36c",
   "metadata": {},
   "outputs": [
    {
     "name": "stdout",
     "output_type": "stream",
     "text": [
      "   col_B col_A\n",
      "0      1     A\n",
      "1      2     B\n",
      "2      3     C\n",
      "3      4     D\n"
     ]
    }
   ],
   "source": [
    "import pandas as pd\n",
    "\n",
    "df = pd.DataFrame([[\"A\", 1], [\"B\", 2], [\"C\", 3], [\"D\", 4]], \n",
    "                  columns=[\"col_A\", \"col_B\"])\n",
    "\n",
    "col_reverse = df.iloc[:, ::-1] \n",
    "\n",
    "print(col_reverse)\n"
   ]
  },
  {
   "cell_type": "code",
   "execution_count": null,
   "id": "de544684",
   "metadata": {},
   "outputs": [],
   "source": [
    "Assume you are given a DataFrame. Additionally, you have a list that specifies the order in which the columns should appear in the DataFrame. Given the list and the DataFrame, print the columns in the order specified in the list."
   ]
  },
  {
   "cell_type": "code",
   "execution_count": 9,
   "id": "f3e797b0",
   "metadata": {},
   "outputs": [
    {
     "name": "stdout",
     "output_type": "stream",
     "text": [
      "   col_B col_A\n",
      "0      1     A\n",
      "1      2     B\n",
      "2      3     C\n",
      "3      4     D\n"
     ]
    }
   ],
   "source": [
    "import pandas as pd\n",
    "\n",
    "df = pd.DataFrame([[\"A\", 1], [\"B\", 2],\n",
    "                   [\"C\", 3], [\"D\", 4]], \n",
    "                  columns=[\"col_A\", \"col_B\"])\n",
    "\n",
    "rearrange_order = [1, 0]  # Column 1 then Column 0\n",
    "\n",
    "# rearranging the df\n",
    "output_df = df[df.columns[rearrange_order]]\n",
    "\n",
    "print(output_df)\n"
   ]
  },
  {
   "cell_type": "code",
   "execution_count": null,
   "id": "6d7b3fa6",
   "metadata": {},
   "outputs": [],
   "source": [
    "Q4) Get alternate rows of a DataFrame\n",
    "Given a DataFrame, you need to print every alternate row starting from the first row of the DataFrame."
   ]
  },
  {
   "cell_type": "code",
   "execution_count": 14,
   "id": "2f07fcba",
   "metadata": {},
   "outputs": [
    {
     "name": "stdout",
     "output_type": "stream",
     "text": [
      "  col_A  col_B\n",
      "0     A      1\n",
      "2     C      3\n"
     ]
    },
    {
     "data": {
      "text/plain": [
       "'\\n\\tcol_B\\tcol_A\\n0\\t1\\tA\\n2\\t3\\tC\\n'"
      ]
     },
     "execution_count": 14,
     "metadata": {},
     "output_type": "execute_result"
    }
   ],
   "source": [
    "import pandas as pd\n",
    "\n",
    "df = pd.DataFrame([[\"A\", 1], [\"B\", 2],\n",
    "                   [\"C\", 3], [\"D\", 4]], \n",
    "                  columns=[\"col_A\", \"col_B\"])\n",
    "\n",
    "output_df = df.iloc[::2] # YOUR CODE HERE\n",
    "print(output_df)\n",
    "\"\"\"\n",
    "\tcol_B\tcol_A\n",
    "0\t1\tA\n",
    "2\t3\tC\n",
    "\"\"\""
   ]
  },
  {
   "cell_type": "code",
   "execution_count": null,
   "id": "9fffef48",
   "metadata": {},
   "outputs": [],
   "source": [
    "Q5) Insert a row at an arbitrary position\n",
    "Insert a given list at a specific index of the DataFrame and reassign the indexes."
   ]
  },
  {
   "cell_type": "code",
   "execution_count": 35,
   "id": "2ae4ff4c",
   "metadata": {},
   "outputs": [
    {
     "data": {
      "text/html": [
       "<div>\n",
       "<style scoped>\n",
       "    .dataframe tbody tr th:only-of-type {\n",
       "        vertical-align: middle;\n",
       "    }\n",
       "\n",
       "    .dataframe tbody tr th {\n",
       "        vertical-align: top;\n",
       "    }\n",
       "\n",
       "    .dataframe thead th {\n",
       "        text-align: right;\n",
       "    }\n",
       "</style>\n",
       "<table border=\"1\" class=\"dataframe\">\n",
       "  <thead>\n",
       "    <tr style=\"text-align: right;\">\n",
       "      <th></th>\n",
       "      <th>col_A</th>\n",
       "      <th>col_B</th>\n",
       "    </tr>\n",
       "  </thead>\n",
       "  <tbody>\n",
       "    <tr>\n",
       "      <th>0</th>\n",
       "      <td>A</td>\n",
       "      <td>1</td>\n",
       "    </tr>\n",
       "    <tr>\n",
       "      <th>1</th>\n",
       "      <td>P</td>\n",
       "      <td>5</td>\n",
       "    </tr>\n",
       "    <tr>\n",
       "      <th>2</th>\n",
       "      <td>B</td>\n",
       "      <td>2</td>\n",
       "    </tr>\n",
       "    <tr>\n",
       "      <th>3</th>\n",
       "      <td>C</td>\n",
       "      <td>3</td>\n",
       "    </tr>\n",
       "    <tr>\n",
       "      <th>4</th>\n",
       "      <td>D</td>\n",
       "      <td>4</td>\n",
       "    </tr>\n",
       "  </tbody>\n",
       "</table>\n",
       "</div>"
      ],
      "text/plain": [
       "  col_A  col_B\n",
       "0     A      1\n",
       "1     P      5\n",
       "2     B      2\n",
       "3     C      3\n",
       "4     D      4"
      ]
     },
     "execution_count": 35,
     "metadata": {},
     "output_type": "execute_result"
    }
   ],
   "source": [
    "import pandas as pd\n",
    "\n",
    "df = pd.DataFrame([[\"A\", 1], [\"B\", 2], [\"C\", 3], [\"D\", 4]], \n",
    "                  columns=[\"col_A\", \"col_B\"])\n",
    "\n",
    "insert_pos = 1\n",
    "insert_row = [\"P\", 5]\n",
    "\n",
    "df.loc[insert_pos-0.5] = insert_row   # YOUR CODE HERE\n",
    "df.sort_index(inplace=True)\n",
    "df.reset_index(inplace=True,drop = True)\n",
    "\n",
    "df\n"
   ]
  },
  {
   "cell_type": "code",
   "execution_count": null,
   "id": "afd6fa50",
   "metadata": {},
   "outputs": [],
   "source": [
    "\"\"\"\n",
    "\tcol_A\tcol_B\n",
    "0\tA\t1\n",
    "1 \tP \t5\n",
    "2\tB\t2\n",
    "3\tC\t3\n",
    "4\tD\t4\n",
    "\"\"\""
   ]
  },
  {
   "cell_type": "code",
   "execution_count": null,
   "id": "3cd336db",
   "metadata": {},
   "outputs": [],
   "source": [
    "Apply a given function to the entire DataFrame. The given DataFrame consists of just integer values. The task is to increase each entry by 1 through a function."
   ]
  },
  {
   "cell_type": "code",
   "execution_count": 36,
   "id": "40fb6d13",
   "metadata": {},
   "outputs": [
    {
     "name": "stdout",
     "output_type": "stream",
     "text": [
      "   col_A  col_B\n",
      "0      2      6\n",
      "1      3      7\n",
      "2      4      8\n",
      "3      5      9\n"
     ]
    }
   ],
   "source": [
    "import pandas as pd\n",
    "\n",
    "df = pd.DataFrame([[1, 5], [2, 6], [3, 7], [4, 8]], \n",
    "                  columns=[\"col_A\", \"col_B\"])\n",
    "\n",
    "def func(num):\n",
    "    return num + 1\n",
    "  \n",
    "output_df = df.applymap(func)\n",
    "print(output_df) \n"
   ]
  },
  {
   "cell_type": "code",
   "execution_count": null,
   "id": "53a9631f",
   "metadata": {},
   "outputs": [],
   "source": [
    "\"\"\"\n",
    "\tcol_A\tcol_B\n",
    "0\t2\t6\n",
    "1\t3\t7\n",
    "2\t4\t8\n",
    "3\t5\t9\n",
    "\"\"\""
   ]
  }
 ],
 "metadata": {
  "kernelspec": {
   "display_name": "Python 3 (ipykernel)",
   "language": "python",
   "name": "python3"
  },
  "language_info": {
   "codemirror_mode": {
    "name": "ipython",
    "version": 3
   },
   "file_extension": ".py",
   "mimetype": "text/x-python",
   "name": "python",
   "nbconvert_exporter": "python",
   "pygments_lexer": "ipython3",
   "version": "3.11.3"
  }
 },
 "nbformat": 4,
 "nbformat_minor": 5
}
